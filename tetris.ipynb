{
 "cells": [
  {
   "cell_type": "code",
   "execution_count": 83,
   "metadata": {},
   "outputs": [],
   "source": [
    "#height of stack of any input x axis\n",
    "def height(x,grid):\n",
    "    stack=[row[x] for row in grid]\n",
    "    if max(stack)==0:\n",
    "        max_position =0\n",
    "    else:\n",
    "        max_position = max(i for i, num in enumerate(stack) if num == 1)\n",
    "        max_position+=1\n",
    "    return max_position\n",
    "\n",
    "# Calculate the height of the final result stack\n",
    "def stack_height(grid):\n",
    "    height = 0\n",
    "    for row in grid:\n",
    "        if any(row):\n",
    "            height += 1\n",
    "    return height\n",
    "\n",
    "# Check and clear any filled rows\n",
    "def clear_full_row(grid):          \n",
    "    for i in range(len(grid) - 1, -1, -1):\n",
    "        if all(x == 1 for x in grid[i]):\n",
    "            grid.pop(i)  # Remove the sublist\n",
    "            grid.append([0] * 10)  # Append a list of zeros\n",
    "        \n",
    "# Function to place a piece on the grid\n",
    "def place_piece(original_coordinates,pre_offset, x_offset, grid):\n",
    "    \n",
    "    #intially where the piece should be\n",
    "    updated_coordinates = list(map(lambda x: (x[0] + x_offset, x[1]), original_coordinates))\n",
    "\n",
    "    # Calculate the height of the stack    \n",
    "    x_axis=set(x[0] for x in updated_coordinates)\n",
    "    x_axis=sorted(x_axis)\n",
    "    \n",
    "    #Calculate the max offset\n",
    "    max_offset=0\n",
    "    for i,x in enumerate(x_axis):\n",
    "        h=(height(x,grid))\n",
    "        h=h-pre_offset[i]\n",
    "        max_offset=max(max_offset,h)\n",
    "   \n",
    "    # Place the piece with y offset\n",
    "    final_coordinates=list(map(lambda x: (x[0], x[1] + max_offset), updated_coordinates))\n",
    "    \n",
    "    for x,y in final_coordinates:\n",
    "        grid[y][x] = 1            \n",
    "\n",
    "    #clear the row where it is full\n",
    "    clear_full_row(grid)\n",
    "      \n",
    "def simulate_tetris(input_string):\n",
    "\n",
    "    # Initialize a 10x100 grid to simulate the Tetris playing field\n",
    "    grid = [[0 for _ in range(10)] for _ in range(100)]         \n",
    "    \n",
    "    # Define the shapes based on the input configuration\n",
    "    shapes = {\n",
    "        'Q': [(0, 0), (1, 0), (0, 1), (1, 1)],\n",
    "        'Z': [(0, 1), (1, 0), (1, 1), (2, 0)],\n",
    "        'S': [(0, 0), (1, 0), (1, 1), (2, 1)],\n",
    "        'T': [(0, 1), (1, 0), (1, 1), (2, 1)],\n",
    "        'I': [(0, 0), (1, 0), (2, 0), (3, 0)],\n",
    "        'L': [(0, 0), (1, 0), (0, 1), (0, 2)],\n",
    "        'J': [(0, 0), (1, 0), (1, 1), (1, 2)]\n",
    "    }\n",
    "    \n",
    "    # Define the how far the blocks are away from the bottom surface\n",
    "    pre_offset={\n",
    "         'Q': [0, 0],\n",
    "         'Z': [1, 0, 0],\n",
    "         'S': [0, 0, 1],\n",
    "         'T': [1, 0, 1],\n",
    "         'I': [0, 0, 0, 0],\n",
    "         'L': [0, 0],\n",
    "         'J': [0, 0]\n",
    "    }\n",
    "    \n",
    "    # Parse the input string and place the pieces accordingly\n",
    "    pieces = input_string.split(',')\n",
    "    for piece in pieces:\n",
    "        shape, x_offset = piece[0], int(piece[1])\n",
    "        place_piece(shapes[shape],pre_offset[shape],x_offset,grid)\n",
    "    \n",
    "    output_height=stack_height(grid)\n",
    "    return output_height\n",
    "\n",
    "def main():\n",
    "    with open('input.txt', 'r') as inputfile, open('output.txt','w') as outputfile:\n",
    "        for line in inputfile:\n",
    "            output_line=simulate_tetris(line)\n",
    "            outputfile.write(str(output_line)+'\\n') \n",
    "        \n",
    "if __name__ == '__main__':\n",
    "    main()"
   ]
  },
  {
   "cell_type": "code",
   "execution_count": 85,
   "metadata": {},
   "outputs": [],
   "source": [
    "import sys"
   ]
  },
  {
   "cell_type": "code",
   "execution_count": 86,
   "metadata": {},
   "outputs": [
    {
     "data": {
      "text/plain": [
       "<_io.TextIOWrapper name='<stdin>' mode='r' encoding='cp1252'>"
      ]
     },
     "execution_count": 86,
     "metadata": {},
     "output_type": "execute_result"
    }
   ],
   "source": [
    "sys.stdin"
   ]
  },
  {
   "cell_type": "code",
   "execution_count": null,
   "metadata": {},
   "outputs": [],
   "source": []
  }
 ],
 "metadata": {
  "kernelspec": {
   "display_name": "Python 3",
   "language": "python",
   "name": "python3"
  },
  "language_info": {
   "codemirror_mode": {
    "name": "ipython",
    "version": 3
   },
   "file_extension": ".py",
   "mimetype": "text/x-python",
   "name": "python",
   "nbconvert_exporter": "python",
   "pygments_lexer": "ipython3",
   "version": "3.8.5"
  }
 },
 "nbformat": 4,
 "nbformat_minor": 4
}
